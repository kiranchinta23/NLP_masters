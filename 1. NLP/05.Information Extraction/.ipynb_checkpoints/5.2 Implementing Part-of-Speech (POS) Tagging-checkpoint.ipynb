{
 "cells": [
  {
   "cell_type": "code",
   "execution_count": 1,
   "metadata": {
    "colab": {},
    "colab_type": "code",
    "executionInfo": {
     "elapsed": 3636,
     "status": "ok",
     "timestamp": 1598884155405,
     "user": {
      "displayName": "Aishwarya Singh",
      "photoUrl": "https://lh3.googleusercontent.com/a-/AOh14GgeJwfn4BdBDCAplWi_kdtB9FRssOpXO7T_aMgg=s64",
      "userId": "01105858832371513140"
     },
     "user_tz": -330
    },
    "id": "xwujk3dRjkup"
   },
   "outputs": [],
   "source": [
    "import spacy"
   ]
  },
  {
   "cell_type": "code",
   "execution_count": 2,
   "metadata": {
    "colab": {},
    "colab_type": "code",
    "executionInfo": {
     "elapsed": 2689,
     "status": "ok",
     "timestamp": 1598884164624,
     "user": {
      "displayName": "Aishwarya Singh",
      "photoUrl": "https://lh3.googleusercontent.com/a-/AOh14GgeJwfn4BdBDCAplWi_kdtB9FRssOpXO7T_aMgg=s64",
      "userId": "01105858832371513140"
     },
     "user_tz": -330
    },
    "id": "-Cm3dVGMjkvP"
   },
   "outputs": [],
   "source": [
    "# Defining the string\n",
    "text=\"With great power comes great responsibility.\""
   ]
  },
  {
   "cell_type": "code",
   "execution_count": 3,
   "metadata": {
    "colab": {},
    "colab_type": "code",
    "executionInfo": {
     "elapsed": 1892,
     "status": "ok",
     "timestamp": 1598884173747,
     "user": {
      "displayName": "Aishwarya Singh",
      "photoUrl": "https://lh3.googleusercontent.com/a-/AOh14GgeJwfn4BdBDCAplWi_kdtB9FRssOpXO7T_aMgg=s64",
      "userId": "01105858832371513140"
     },
     "user_tz": -330
    },
    "id": "huvTbq7fjkvY"
   },
   "outputs": [],
   "source": [
    "# Loading the model\n",
    "nlp=spacy.load('en_core_web_sm')"
   ]
  },
  {
   "cell_type": "code",
   "execution_count": 4,
   "metadata": {
    "colab": {},
    "colab_type": "code",
    "executionInfo": {
     "elapsed": 1315,
     "status": "ok",
     "timestamp": 1598884176578,
     "user": {
      "displayName": "Aishwarya Singh",
      "photoUrl": "https://lh3.googleusercontent.com/a-/AOh14GgeJwfn4BdBDCAplWi_kdtB9FRssOpXO7T_aMgg=s64",
      "userId": "01105858832371513140"
     },
     "user_tz": -330
    },
    "id": "WHFHbjGsjkvg"
   },
   "outputs": [],
   "source": [
    "# Creating Doc object\n",
    "doc=nlp(text)"
   ]
  },
  {
   "cell_type": "code",
   "execution_count": 5,
   "metadata": {
    "colab": {
     "base_uri": "https://localhost:8080/",
     "height": 139
    },
    "colab_type": "code",
    "executionInfo": {
     "elapsed": 1368,
     "status": "ok",
     "timestamp": 1598884206419,
     "user": {
      "displayName": "Aishwarya Singh",
      "photoUrl": "https://lh3.googleusercontent.com/a-/AOh14GgeJwfn4BdBDCAplWi_kdtB9FRssOpXO7T_aMgg=s64",
      "userId": "01105858832371513140"
     },
     "user_tz": -330
    },
    "id": "K1sqN0-Rjkvo",
    "outputId": "45f70107-f9ed-4ac7-9e6c-a360545e00d8"
   },
   "outputs": [
    {
     "name": "stdout",
     "output_type": "stream",
     "text": [
      "With => ADP => IN\n",
      "great => ADJ => JJ\n",
      "power => NOUN => NN\n",
      "comes => VERB => VBZ\n",
      "great => ADJ => JJ\n",
      "responsibility => NOUN => NN\n",
      ". => PUNCT => .\n"
     ]
    }
   ],
   "source": [
    "# Getting POS tags\n",
    "for token in doc:\n",
    "    print(token.text,'=>',token.pos_,'=>',token.tag_)"
   ]
  },
  {
   "cell_type": "code",
   "execution_count": 6,
   "metadata": {
    "colab": {},
    "colab_type": "code",
    "executionInfo": {
     "elapsed": 1272,
     "status": "ok",
     "timestamp": 1598884223305,
     "user": {
      "displayName": "Aishwarya Singh",
      "photoUrl": "https://lh3.googleusercontent.com/a-/AOh14GgeJwfn4BdBDCAplWi_kdtB9FRssOpXO7T_aMgg=s64",
      "userId": "01105858832371513140"
     },
     "user_tz": -330
    },
    "id": "b2guZjnBjkvy"
   },
   "outputs": [],
   "source": [
    "# Defining the string\n",
    "text=\"The teacher reads a book to her students then asks them questions about the story.\""
   ]
  },
  {
   "cell_type": "code",
   "execution_count": 7,
   "metadata": {
    "colab": {},
    "colab_type": "code",
    "executionInfo": {
     "elapsed": 1283,
     "status": "ok",
     "timestamp": 1598884233239,
     "user": {
      "displayName": "Aishwarya Singh",
      "photoUrl": "https://lh3.googleusercontent.com/a-/AOh14GgeJwfn4BdBDCAplWi_kdtB9FRssOpXO7T_aMgg=s64",
      "userId": "01105858832371513140"
     },
     "user_tz": -330
    },
    "id": "97uhzyoujkv6"
   },
   "outputs": [],
   "source": [
    "# Creating Doc object\n",
    "doc=nlp(text)"
   ]
  },
  {
   "cell_type": "code",
   "execution_count": 8,
   "metadata": {
    "colab": {
     "base_uri": "https://localhost:8080/",
     "height": 295
    },
    "colab_type": "code",
    "executionInfo": {
     "elapsed": 1736,
     "status": "ok",
     "timestamp": 1598884234913,
     "user": {
      "displayName": "Aishwarya Singh",
      "photoUrl": "https://lh3.googleusercontent.com/a-/AOh14GgeJwfn4BdBDCAplWi_kdtB9FRssOpXO7T_aMgg=s64",
      "userId": "01105858832371513140"
     },
     "user_tz": -330
    },
    "id": "KjDJHck_jkwD",
    "outputId": "2581b48b-a09c-4b62-c512-8ee60084d506"
   },
   "outputs": [
    {
     "name": "stdout",
     "output_type": "stream",
     "text": [
      "The => DET => DT\n",
      "teacher => NOUN => NN\n",
      "reads => VERB => VBZ\n",
      "a => DET => DT\n",
      "book => NOUN => NN\n",
      "to => ADP => IN\n",
      "her => DET => PRP$\n",
      "students => NOUN => NNS\n",
      "then => ADV => RB\n",
      "asks => VERB => VBZ\n",
      "them => PRON => PRP\n",
      "questions => NOUN => NNS\n",
      "about => ADP => IN\n",
      "the => DET => DT\n",
      "story => NOUN => NN\n",
      ". => PUNCT => .\n"
     ]
    }
   ],
   "source": [
    "# Getting POS tags\n",
    "for token in doc:\n",
    "    print(token.text,'=>',token.pos_,'=>',token.tag_)"
   ]
  },
  {
   "cell_type": "code",
   "execution_count": 9,
   "metadata": {
    "colab": {
     "base_uri": "https://localhost:8080/",
     "height": 34
    },
    "colab_type": "code",
    "executionInfo": {
     "elapsed": 1256,
     "status": "ok",
     "timestamp": 1598884273344,
     "user": {
      "displayName": "Aishwarya Singh",
      "photoUrl": "https://lh3.googleusercontent.com/a-/AOh14GgeJwfn4BdBDCAplWi_kdtB9FRssOpXO7T_aMgg=s64",
      "userId": "01105858832371513140"
     },
     "user_tz": -330
    },
    "id": "Gz1Mr0MEjkwL",
    "outputId": "217cd0f6-630b-4d41-aaab-6748dcf9b88f"
   },
   "outputs": [
    {
     "data": {
      "text/plain": [
       "['reads', 'asks']"
      ]
     },
     "execution_count": 9,
     "metadata": {
      "tags": []
     },
     "output_type": "execute_result"
    }
   ],
   "source": [
    "# Extracting verbs from the sentence\n",
    "[token.text for token in doc if(token.pos_=='VERB')]"
   ]
  },
  {
   "cell_type": "code",
   "execution_count": null,
   "metadata": {
    "colab": {},
    "colab_type": "code",
    "id": "gM6Foq6-jkwS"
   },
   "outputs": [],
   "source": [
    "# Extracting nouns from the sentence\n",
    "[token.text for token in doc if(token.pos_=='NOUN')]"
   ]
  },
  {
   "cell_type": "code",
   "execution_count": null,
   "metadata": {},
   "outputs": [],
   "source": []
  },
  {
   "cell_type": "markdown",
   "metadata": {},
   "source": [
    "# assignmnet\n"
   ]
  },
  {
   "cell_type": "code",
   "execution_count": 2,
   "metadata": {},
   "outputs": [
    {
     "data": {
      "text/plain": [
       "'The moon is the satellite of the earth. It moves round the earth. It shines at night by light reflected from the Sun. It looks beautiful. The bright Moonlight is very soothing. The earthly objects shine like silver in the moonlight. We are fascinated by the enchanting beauty of the Moon. The moon is not as beautiful as it looks. It seems to be lovely when it shines in the sky at night. As a matter of fact it is devoid of plants and animals. The moon is not a suitable place for plants and animals. Therefore, no form of life can be found on the moon. Unlike the earth, the moon has got no atmosphere. Therefore, the lunar days are very hot and the lunar nights are intensely cold. The moon looks beautiful from the earth but in fact it has up forbidding appearance. It is full of rocks and craters. When we look at the moon at night we see some dark spots on it. These dark spots are dangerous rocks and craters. The gravitational pull of the moon is less than that of the earth, so it is difficult to walk on the surface of the Moon. The moon has fascinated man since the beginning of his life on the earth. He has looked at it with wonder. Many poets have composed beautiful poems on the moon. Scientists tried to reveal the mystery of the moon. They wanted to send human to the moon. Several attempts were made to place man on the moon. At last two Americans-Neil Armstrong and Edwin Aldrin-reached the moon on July 21, 1969. They walked on the surface of the moon and collected the lunar rocks. They returned to the earth safely. The American scientists have sent men to the moon several times. Now the moon has been conquered by man. It is no longer a mysterious object. The journey of the moon may be thrilling but it cannot make our life on the earth happy. It is better to have a happy life on the earth then to go to the moon.\\n'"
      ]
     },
     "execution_count": 2,
     "metadata": {},
     "output_type": "execute_result"
    }
   ],
   "source": [
    "with open('moon.txt',mode='r') as f:\n",
    "    text=f.read()\n",
    "    \n",
    "text"
   ]
  },
  {
   "cell_type": "code",
   "execution_count": 4,
   "metadata": {},
   "outputs": [],
   "source": [
    "import spacy\n",
    "nlp=spacy.load('en_core_web_sm')\n"
   ]
  },
  {
   "cell_type": "code",
   "execution_count": 5,
   "metadata": {},
   "outputs": [],
   "source": [
    "doc=nlp(text)"
   ]
  },
  {
   "cell_type": "code",
   "execution_count": 6,
   "metadata": {},
   "outputs": [
    {
     "name": "stdout",
     "output_type": "stream",
     "text": [
      "The=>DET\n",
      "moon=>NOUN\n",
      "is=>AUX\n",
      "the=>DET\n",
      "satellite=>NOUN\n",
      "of=>ADP\n",
      "the=>DET\n",
      "earth=>NOUN\n",
      ".=>PUNCT\n",
      "It=>PRON\n",
      "moves=>VERB\n",
      "round=>ADP\n",
      "the=>DET\n",
      "earth=>NOUN\n",
      ".=>PUNCT\n",
      "It=>PRON\n",
      "shines=>VERB\n",
      "at=>ADP\n",
      "night=>NOUN\n",
      "by=>ADP\n",
      "light=>NOUN\n",
      "reflected=>VERB\n",
      "from=>ADP\n",
      "the=>DET\n",
      "Sun=>PROPN\n",
      ".=>PUNCT\n",
      "It=>PRON\n",
      "looks=>VERB\n",
      "beautiful=>ADJ\n",
      ".=>PUNCT\n",
      "The=>DET\n",
      "bright=>ADJ\n",
      "Moonlight=>PROPN\n",
      "is=>AUX\n",
      "very=>ADV\n",
      "soothing=>ADJ\n",
      ".=>PUNCT\n",
      "The=>DET\n",
      "earthly=>ADJ\n",
      "objects=>NOUN\n",
      "shine=>VERB\n",
      "like=>SCONJ\n",
      "silver=>NOUN\n",
      "in=>ADP\n",
      "the=>DET\n",
      "moonlight=>NOUN\n",
      ".=>PUNCT\n",
      "We=>PRON\n",
      "are=>AUX\n",
      "fascinated=>VERB\n",
      "by=>ADP\n",
      "the=>DET\n",
      "enchanting=>ADJ\n",
      "beauty=>NOUN\n",
      "of=>ADP\n",
      "the=>DET\n",
      "Moon=>PROPN\n",
      ".=>PUNCT\n",
      "The=>DET\n",
      "moon=>NOUN\n",
      "is=>AUX\n",
      "not=>PART\n",
      "as=>ADV\n",
      "beautiful=>ADJ\n",
      "as=>SCONJ\n",
      "it=>PRON\n",
      "looks=>VERB\n",
      ".=>PUNCT\n",
      "It=>PRON\n",
      "seems=>VERB\n",
      "to=>PART\n",
      "be=>AUX\n",
      "lovely=>ADJ\n",
      "when=>ADV\n",
      "it=>PRON\n",
      "shines=>VERB\n",
      "in=>ADP\n",
      "the=>DET\n",
      "sky=>NOUN\n",
      "at=>ADP\n",
      "night=>NOUN\n",
      ".=>PUNCT\n",
      "As=>SCONJ\n",
      "a=>DET\n",
      "matter=>NOUN\n",
      "of=>ADP\n",
      "fact=>NOUN\n",
      "it=>PRON\n",
      "is=>AUX\n",
      "devoid=>ADJ\n",
      "of=>ADP\n",
      "plants=>NOUN\n",
      "and=>CCONJ\n",
      "animals=>NOUN\n",
      ".=>PUNCT\n",
      "The=>DET\n",
      "moon=>NOUN\n",
      "is=>AUX\n",
      "not=>PART\n",
      "a=>DET\n",
      "suitable=>ADJ\n",
      "place=>NOUN\n",
      "for=>ADP\n",
      "plants=>NOUN\n",
      "and=>CCONJ\n",
      "animals=>NOUN\n",
      ".=>PUNCT\n",
      "Therefore=>ADV\n",
      ",=>PUNCT\n",
      "no=>DET\n",
      "form=>NOUN\n",
      "of=>ADP\n",
      "life=>NOUN\n",
      "can=>VERB\n",
      "be=>AUX\n",
      "found=>VERB\n",
      "on=>ADP\n",
      "the=>DET\n",
      "moon=>NOUN\n",
      ".=>PUNCT\n",
      "Unlike=>ADP\n",
      "the=>DET\n",
      "earth=>NOUN\n",
      ",=>PUNCT\n",
      "the=>DET\n",
      "moon=>NOUN\n",
      "has=>AUX\n",
      "got=>VERB\n",
      "no=>DET\n",
      "atmosphere=>NOUN\n",
      ".=>PUNCT\n",
      "Therefore=>ADV\n",
      ",=>PUNCT\n",
      "the=>DET\n",
      "lunar=>ADJ\n",
      "days=>NOUN\n",
      "are=>AUX\n",
      "very=>ADV\n",
      "hot=>ADJ\n",
      "and=>CCONJ\n",
      "the=>DET\n",
      "lunar=>ADJ\n",
      "nights=>NOUN\n",
      "are=>AUX\n",
      "intensely=>ADV\n",
      "cold=>ADJ\n",
      ".=>PUNCT\n",
      "The=>DET\n",
      "moon=>NOUN\n",
      "looks=>VERB\n",
      "beautiful=>ADJ\n",
      "from=>ADP\n",
      "the=>DET\n",
      "earth=>NOUN\n",
      "but=>CCONJ\n",
      "in=>ADP\n",
      "fact=>NOUN\n",
      "it=>PRON\n",
      "has=>AUX\n",
      "up=>ADP\n",
      "forbidding=>VERB\n",
      "appearance=>NOUN\n",
      ".=>PUNCT\n",
      "It=>PRON\n",
      "is=>AUX\n",
      "full=>ADJ\n",
      "of=>ADP\n",
      "rocks=>NOUN\n",
      "and=>CCONJ\n",
      "craters=>NOUN\n",
      ".=>PUNCT\n",
      "When=>ADV\n",
      "we=>PRON\n",
      "look=>VERB\n",
      "at=>ADP\n",
      "the=>DET\n",
      "moon=>NOUN\n",
      "at=>ADP\n",
      "night=>NOUN\n",
      "we=>PRON\n",
      "see=>VERB\n",
      "some=>DET\n",
      "dark=>ADJ\n",
      "spots=>NOUN\n",
      "on=>ADP\n",
      "it=>PRON\n",
      ".=>PUNCT\n",
      "These=>DET\n",
      "dark=>ADJ\n",
      "spots=>NOUN\n",
      "are=>AUX\n",
      "dangerous=>ADJ\n",
      "rocks=>NOUN\n",
      "and=>CCONJ\n",
      "craters=>NOUN\n",
      ".=>PUNCT\n",
      "The=>DET\n",
      "gravitational=>ADJ\n",
      "pull=>NOUN\n",
      "of=>ADP\n",
      "the=>DET\n",
      "moon=>NOUN\n",
      "is=>AUX\n",
      "less=>ADJ\n",
      "than=>SCONJ\n",
      "that=>DET\n",
      "of=>ADP\n",
      "the=>DET\n",
      "earth=>NOUN\n",
      ",=>PUNCT\n",
      "so=>CCONJ\n",
      "it=>PRON\n",
      "is=>AUX\n",
      "difficult=>ADJ\n",
      "to=>PART\n",
      "walk=>VERB\n",
      "on=>ADP\n",
      "the=>DET\n",
      "surface=>NOUN\n",
      "of=>ADP\n",
      "the=>DET\n",
      "Moon=>PROPN\n",
      ".=>PUNCT\n",
      "The=>DET\n",
      "moon=>NOUN\n",
      "has=>AUX\n",
      "fascinated=>VERB\n",
      "man=>NOUN\n",
      "since=>SCONJ\n",
      "the=>DET\n",
      "beginning=>NOUN\n",
      "of=>ADP\n",
      "his=>DET\n",
      "life=>NOUN\n",
      "on=>ADP\n",
      "the=>DET\n",
      "earth=>NOUN\n",
      ".=>PUNCT\n",
      "He=>PRON\n",
      "has=>AUX\n",
      "looked=>VERB\n",
      "at=>ADP\n",
      "it=>PRON\n",
      "with=>ADP\n",
      "wonder=>NOUN\n",
      ".=>PUNCT\n",
      "Many=>ADJ\n",
      "poets=>NOUN\n",
      "have=>AUX\n",
      "composed=>VERB\n",
      "beautiful=>ADJ\n",
      "poems=>NOUN\n",
      "on=>ADP\n",
      "the=>DET\n",
      "moon=>NOUN\n",
      ".=>PUNCT\n",
      "Scientists=>NOUN\n",
      "tried=>VERB\n",
      "to=>PART\n",
      "reveal=>VERB\n",
      "the=>DET\n",
      "mystery=>NOUN\n",
      "of=>ADP\n",
      "the=>DET\n",
      "moon=>NOUN\n",
      ".=>PUNCT\n",
      "They=>PRON\n",
      "wanted=>VERB\n",
      "to=>PART\n",
      "send=>VERB\n",
      "human=>NOUN\n",
      "to=>ADP\n",
      "the=>DET\n",
      "moon=>NOUN\n",
      ".=>PUNCT\n",
      "Several=>ADJ\n",
      "attempts=>NOUN\n",
      "were=>AUX\n",
      "made=>VERB\n",
      "to=>PART\n",
      "place=>VERB\n",
      "man=>NOUN\n",
      "on=>ADP\n",
      "the=>DET\n",
      "moon=>NOUN\n",
      ".=>PUNCT\n",
      "At=>ADP\n",
      "last=>ADJ\n",
      "two=>NUM\n",
      "Americans=>PROPN\n",
      "-=>PUNCT\n",
      "Neil=>PROPN\n",
      "Armstrong=>PROPN\n",
      "and=>CCONJ\n",
      "Edwin=>PROPN\n",
      "Aldrin=>PROPN\n",
      "-=>PUNCT\n",
      "reached=>VERB\n",
      "the=>DET\n",
      "moon=>NOUN\n",
      "on=>ADP\n",
      "July=>PROPN\n",
      "21=>NUM\n",
      ",=>PUNCT\n",
      "1969=>NUM\n",
      ".=>PUNCT\n",
      "They=>PRON\n",
      "walked=>VERB\n",
      "on=>ADP\n",
      "the=>DET\n",
      "surface=>NOUN\n",
      "of=>ADP\n",
      "the=>DET\n",
      "moon=>NOUN\n",
      "and=>CCONJ\n",
      "collected=>VERB\n",
      "the=>DET\n",
      "lunar=>ADJ\n",
      "rocks=>NOUN\n",
      ".=>PUNCT\n",
      "They=>PRON\n",
      "returned=>VERB\n",
      "to=>ADP\n",
      "the=>DET\n",
      "earth=>NOUN\n",
      "safely=>ADV\n",
      ".=>PUNCT\n",
      "The=>DET\n",
      "American=>ADJ\n",
      "scientists=>NOUN\n",
      "have=>AUX\n",
      "sent=>VERB\n",
      "men=>NOUN\n",
      "to=>ADP\n",
      "the=>DET\n",
      "moon=>NOUN\n",
      "several=>ADJ\n",
      "times=>NOUN\n",
      ".=>PUNCT\n",
      "Now=>ADV\n",
      "the=>DET\n",
      "moon=>NOUN\n",
      "has=>AUX\n",
      "been=>AUX\n",
      "conquered=>VERB\n",
      "by=>ADP\n",
      "man=>NOUN\n",
      ".=>PUNCT\n",
      "It=>PRON\n",
      "is=>AUX\n",
      "no=>ADV\n",
      "longer=>ADV\n",
      "a=>DET\n",
      "mysterious=>ADJ\n",
      "object=>NOUN\n",
      ".=>PUNCT\n",
      "The=>DET\n",
      "journey=>NOUN\n",
      "of=>ADP\n",
      "the=>DET\n",
      "moon=>NOUN\n",
      "may=>VERB\n",
      "be=>AUX\n",
      "thrilling=>VERB\n",
      "but=>CCONJ\n",
      "it=>PRON\n",
      "can=>VERB\n",
      "not=>PART\n",
      "make=>VERB\n",
      "our=>DET\n",
      "life=>NOUN\n",
      "on=>ADP\n",
      "the=>DET\n",
      "earth=>NOUN\n",
      "happy=>ADJ\n",
      ".=>PUNCT\n",
      "It=>PRON\n",
      "is=>AUX\n",
      "better=>ADJ\n",
      "to=>PART\n",
      "have=>AUX\n",
      "a=>DET\n",
      "happy=>ADJ\n",
      "life=>NOUN\n",
      "on=>ADP\n",
      "the=>DET\n",
      "earth=>NOUN\n",
      "then=>ADV\n",
      "to=>PART\n",
      "go=>VERB\n",
      "to=>ADP\n",
      "the=>DET\n",
      "moon=>NOUN\n",
      ".=>PUNCT\n",
      "\n",
      "=>SPACE\n"
     ]
    }
   ],
   "source": [
    "#1. annotate the words with parts of speech tags\n",
    "for token in doc:\n",
    "    print(token.text+'=>'+token.pos_)"
   ]
  },
  {
   "cell_type": "code",
   "execution_count": 7,
   "metadata": {},
   "outputs": [
    {
     "name": "stdout",
     "output_type": "stream",
     "text": [
      "81\n",
      "37\n"
     ]
    }
   ],
   "source": [
    "# 2. count the number of nouns and vers in the text\n",
    "nouns=[token.text for token in doc if token.pos_=='NOUN']\n",
    "print(len(nouns))\n",
    "\n",
    "verbs=[token.text for token in doc if token.pos_=='VERB']\n",
    "print(len(verbs))"
   ]
  },
  {
   "cell_type": "code",
   "execution_count": null,
   "metadata": {},
   "outputs": [],
   "source": []
  }
 ],
 "metadata": {
  "colab": {
   "collapsed_sections": [],
   "name": "6.3 Implementing Part-of-Speech (POS) Tagging.ipynb",
   "provenance": []
  },
  "kernelspec": {
   "display_name": "Python 3",
   "language": "python",
   "name": "python3"
  },
  "language_info": {
   "codemirror_mode": {
    "name": "ipython",
    "version": 3
   },
   "file_extension": ".py",
   "mimetype": "text/x-python",
   "name": "python",
   "nbconvert_exporter": "python",
   "pygments_lexer": "ipython3",
   "version": "3.8.5"
  }
 },
 "nbformat": 4,
 "nbformat_minor": 1
}
