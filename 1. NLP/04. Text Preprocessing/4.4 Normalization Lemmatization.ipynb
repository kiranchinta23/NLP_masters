{
 "cells": [
  {
   "cell_type": "markdown",
   "metadata": {
    "colab_type": "text",
    "id": "3DuZXt_nkCo5"
   },
   "source": [
    "# Lemmatization in spaCy"
   ]
  },
  {
   "cell_type": "code",
   "execution_count": 1,
   "metadata": {
    "colab": {},
    "colab_type": "code",
    "executionInfo": {
     "elapsed": 2306,
     "status": "ok",
     "timestamp": 1598786937977,
     "user": {
      "displayName": "Aishwarya Singh",
      "photoUrl": "https://lh3.googleusercontent.com/a-/AOh14GgeJwfn4BdBDCAplWi_kdtB9FRssOpXO7T_aMgg=s64",
      "userId": "01105858832371513140"
     },
     "user_tz": -330
    },
    "id": "XE244nhmkCo7"
   },
   "outputs": [],
   "source": [
    "# Defining the string\n",
    "text=\"The sky is clear and the stars are twinkling.\""
   ]
  },
  {
   "cell_type": "code",
   "execution_count": 2,
   "metadata": {
    "colab": {},
    "colab_type": "code",
    "executionInfo": {
     "elapsed": 3037,
     "status": "ok",
     "timestamp": 1598786945677,
     "user": {
      "displayName": "Aishwarya Singh",
      "photoUrl": "https://lh3.googleusercontent.com/a-/AOh14GgeJwfn4BdBDCAplWi_kdtB9FRssOpXO7T_aMgg=s64",
      "userId": "01105858832371513140"
     },
     "user_tz": -330
    },
    "id": "YYEvC2bAkCpF"
   },
   "outputs": [],
   "source": [
    "import spacy"
   ]
  },
  {
   "cell_type": "code",
   "execution_count": 3,
   "metadata": {
    "colab": {},
    "colab_type": "code",
    "executionInfo": {
     "elapsed": 3390,
     "status": "ok",
     "timestamp": 1598786947890,
     "user": {
      "displayName": "Aishwarya Singh",
      "photoUrl": "https://lh3.googleusercontent.com/a-/AOh14GgeJwfn4BdBDCAplWi_kdtB9FRssOpXO7T_aMgg=s64",
      "userId": "01105858832371513140"
     },
     "user_tz": -330
    },
    "id": "xh54WXLCkCpM"
   },
   "outputs": [],
   "source": [
    "# Loading spacy model\n",
    "nlp=spacy.load('en_core_web_sm')"
   ]
  },
  {
   "cell_type": "code",
   "execution_count": 4,
   "metadata": {
    "colab": {},
    "colab_type": "code",
    "executionInfo": {
     "elapsed": 3972,
     "status": "ok",
     "timestamp": 1598786950599,
     "user": {
      "displayName": "Aishwarya Singh",
      "photoUrl": "https://lh3.googleusercontent.com/a-/AOh14GgeJwfn4BdBDCAplWi_kdtB9FRssOpXO7T_aMgg=s64",
      "userId": "01105858832371513140"
     },
     "user_tz": -330
    },
    "id": "6v42AYrMkCpU"
   },
   "outputs": [],
   "source": [
    "# Creating doc object\n",
    "doc=nlp(text)"
   ]
  },
  {
   "cell_type": "code",
   "execution_count": 5,
   "metadata": {
    "colab": {
     "base_uri": "https://localhost:8080/",
     "height": 191
    },
    "colab_type": "code",
    "executionInfo": {
     "elapsed": 1788,
     "status": "ok",
     "timestamp": 1598786957344,
     "user": {
      "displayName": "Aishwarya Singh",
      "photoUrl": "https://lh3.googleusercontent.com/a-/AOh14GgeJwfn4BdBDCAplWi_kdtB9FRssOpXO7T_aMgg=s64",
      "userId": "01105858832371513140"
     },
     "user_tz": -330
    },
    "id": "vZjxGGdtkCpc",
    "outputId": "c6aa7224-5bdd-452c-e290-9c366fe95eb5"
   },
   "outputs": [
    {
     "data": {
      "text/plain": [
       "[('The', 'the'),\n",
       " ('sky', 'sky'),\n",
       " ('is', 'be'),\n",
       " ('clear', 'clear'),\n",
       " ('and', 'and'),\n",
       " ('the', 'the'),\n",
       " ('stars', 'star'),\n",
       " ('are', 'be'),\n",
       " ('twinkling', 'twinkle'),\n",
       " ('.', '.')]"
      ]
     },
     "execution_count": 5,
     "metadata": {
      "tags": []
     },
     "output_type": "execute_result"
    }
   ],
   "source": [
    "# Lemmatizing the text\n",
    "[(token.text,token.lemma_) for token in doc]"
   ]
  },
  {
   "cell_type": "code",
   "execution_count": 7,
   "metadata": {
    "colab": {
     "base_uri": "https://localhost:8080/",
     "height": 278
    },
    "colab_type": "code",
    "executionInfo": {
     "elapsed": 1204,
     "status": "ok",
     "timestamp": 1598787049171,
     "user": {
      "displayName": "Aishwarya Singh",
      "photoUrl": "https://lh3.googleusercontent.com/a-/AOh14GgeJwfn4BdBDCAplWi_kdtB9FRssOpXO7T_aMgg=s64",
      "userId": "01105858832371513140"
     },
     "user_tz": -330
    },
    "id": "GKv3PEmKkCpk",
    "outputId": "c154e935-e8b9-4791-bfce-3213a57d4559"
   },
   "outputs": [
    {
     "data": {
      "text/plain": [
       "[('The', 'the'),\n",
       " ('moon', 'moon'),\n",
       " ('looks', 'look'),\n",
       " ('beautiful', 'beautiful'),\n",
       " ('at', 'at'),\n",
       " ('night', 'night'),\n",
       " ('.', '.'),\n",
       " ('It', '-PRON-'),\n",
       " (\"'s\", 'be'),\n",
       " ('hard', 'hard'),\n",
       " ('to', 'to'),\n",
       " ('resist', 'resist'),\n",
       " ('its', '-PRON-'),\n",
       " ('beauty', 'beauty'),\n",
       " ('.', '.')]"
      ]
     },
     "execution_count": 7,
     "metadata": {
      "tags": []
     },
     "output_type": "execute_result"
    }
   ],
   "source": [
    "text=\"The moon looks beautiful at night. It's hard to resist its beauty.\"\n",
    "\n",
    "# Creating doc object\n",
    "doc=nlp(text)\n",
    "\n",
    "# Lemmatizing the text\n",
    "[(token.text,token.lemma_) for token in doc]"
   ]
  },
  {
   "cell_type": "code",
   "execution_count": null,
   "metadata": {
    "colab": {},
    "colab_type": "code",
    "id": "yT-SVRVGIS2m"
   },
   "outputs": [],
   "source": []
  },
  {
   "cell_type": "markdown",
   "metadata": {},
   "source": [
    "# assignment"
   ]
  },
  {
   "cell_type": "code",
   "execution_count": 1,
   "metadata": {},
   "outputs": [],
   "source": [
    "with open('switzerland.txt',mode='r') as f:\n",
    "    text=f.read()"
   ]
  },
  {
   "cell_type": "code",
   "execution_count": 2,
   "metadata": {},
   "outputs": [
    {
     "data": {
      "text/plain": [
       "\"Switzerland, officially the Swiss Confederation, is a country situated in the confluence of Western, Central, and Southern Europe. It is a federal republic composed of 26 cantons, with federal authorities based in Bern. Switzerland is a landlocked country bordered by Italy to the south, France to the west, Germany to the north, and Austria and Liechtenstein to the east. It is geographically divided among the Swiss Plateau, the Alps, and the Jura, spanning a total area of 41,285 km2 (15,940 sq mi), and land area of 39,997 km2 (15,443 sq mi). While the Alps occupy the greater part of the territory, the Swiss population of approximately 8.5 million is concentrated mostly on the plateau, where the largest cities and economic centres are located, among them ZÃ¼rich, Geneva and Basel, where multiple international organisations are domiciled (such as FIFA, the UN's second-largest Office, and the Bank for International Settlements) and where the main international airports of Switzerland are.\\n\""
      ]
     },
     "execution_count": 2,
     "metadata": {},
     "output_type": "execute_result"
    }
   ],
   "source": [
    "text"
   ]
  },
  {
   "cell_type": "code",
   "execution_count": 3,
   "metadata": {},
   "outputs": [],
   "source": [
    "import spacy\n",
    "nlp=spacy.load('en_core_web_sm')"
   ]
  },
  {
   "cell_type": "code",
   "execution_count": 4,
   "metadata": {},
   "outputs": [
    {
     "data": {
      "text/plain": [
       "['Switzerland',\n",
       " ',',\n",
       " 'officially',\n",
       " 'Swiss',\n",
       " 'Confederation',\n",
       " ',',\n",
       " 'country',\n",
       " 'situate',\n",
       " 'confluence',\n",
       " 'western',\n",
       " ',',\n",
       " 'central',\n",
       " ',',\n",
       " 'Southern',\n",
       " 'Europe',\n",
       " '.',\n",
       " 'federal',\n",
       " 'republic',\n",
       " 'compose',\n",
       " '26',\n",
       " 'canton',\n",
       " ',',\n",
       " 'federal',\n",
       " 'authority',\n",
       " 'base',\n",
       " 'Bern',\n",
       " '.',\n",
       " 'Switzerland',\n",
       " 'landlocked',\n",
       " 'country',\n",
       " 'border',\n",
       " 'Italy',\n",
       " 'south',\n",
       " ',',\n",
       " 'France',\n",
       " 'west',\n",
       " ',',\n",
       " 'Germany',\n",
       " 'north',\n",
       " ',',\n",
       " 'Austria',\n",
       " 'Liechtenstein',\n",
       " 'east',\n",
       " '.',\n",
       " 'geographically',\n",
       " 'divide',\n",
       " 'Swiss',\n",
       " 'Plateau',\n",
       " ',',\n",
       " 'Alps',\n",
       " ',',\n",
       " 'Jura',\n",
       " ',',\n",
       " 'span',\n",
       " 'total',\n",
       " 'area',\n",
       " '41,285',\n",
       " 'km2',\n",
       " '(',\n",
       " '15,940',\n",
       " 'sq',\n",
       " 'mi',\n",
       " ')',\n",
       " ',',\n",
       " 'land',\n",
       " 'area',\n",
       " '39,997',\n",
       " 'km2',\n",
       " '(',\n",
       " '15,443',\n",
       " 'sq',\n",
       " 'mi',\n",
       " ')',\n",
       " '.',\n",
       " 'Alps',\n",
       " 'occupy',\n",
       " 'great',\n",
       " 'territory',\n",
       " ',',\n",
       " 'swiss',\n",
       " 'population',\n",
       " 'approximately',\n",
       " '8.5',\n",
       " 'million',\n",
       " 'concentrate',\n",
       " 'plateau',\n",
       " ',',\n",
       " 'large',\n",
       " 'city',\n",
       " 'economic',\n",
       " 'centre',\n",
       " 'locate',\n",
       " ',',\n",
       " 'zã¼rich',\n",
       " ',',\n",
       " 'Geneva',\n",
       " 'Basel',\n",
       " ',',\n",
       " 'multiple',\n",
       " 'international',\n",
       " 'organisation',\n",
       " 'domicile',\n",
       " '(',\n",
       " 'FIFA',\n",
       " ',',\n",
       " 'UN',\n",
       " 'second',\n",
       " '-',\n",
       " 'large',\n",
       " 'office',\n",
       " ',',\n",
       " 'Bank',\n",
       " 'International',\n",
       " 'Settlements',\n",
       " ')',\n",
       " 'main',\n",
       " 'international',\n",
       " 'airport',\n",
       " 'Switzerland',\n",
       " '.',\n",
       " '\\n']"
      ]
     },
     "execution_count": 4,
     "metadata": {},
     "output_type": "execute_result"
    }
   ],
   "source": [
    "[token.lemma_ for token in nlp(text) if token.is_stop==False]"
   ]
  },
  {
   "cell_type": "code",
   "execution_count": null,
   "metadata": {},
   "outputs": [],
   "source": []
  }
 ],
 "metadata": {
  "colab": {
   "collapsed_sections": [],
   "name": "5.4 Normalization-Lemmatization.ipynb",
   "provenance": []
  },
  "kernelspec": {
   "display_name": "Python 3",
   "language": "python",
   "name": "python3"
  },
  "language_info": {
   "codemirror_mode": {
    "name": "ipython",
    "version": 3
   },
   "file_extension": ".py",
   "mimetype": "text/x-python",
   "name": "python",
   "nbconvert_exporter": "python",
   "pygments_lexer": "ipython3",
   "version": "3.8.5"
  }
 },
 "nbformat": 4,
 "nbformat_minor": 1
}
