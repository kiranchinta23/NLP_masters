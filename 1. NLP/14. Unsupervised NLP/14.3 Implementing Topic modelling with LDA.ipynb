{
 "cells": [
  {
   "cell_type": "code",
   "execution_count": 4,
   "metadata": {},
   "outputs": [],
   "source": [
    "from sklearn.decomposition import LatentDirichletAllocation\n",
    "from sklearn.feature_extraction.text import CountVectorizer\n",
    "import numpy as np\n",
    "\n",
    "cv=CountVectorizer()"
   ]
  },
  {
   "cell_type": "code",
   "execution_count": 5,
   "metadata": {},
   "outputs": [],
   "source": [
    "corpus=['I want to have fruits for my breakfast','I like to eat almonds, eggs and fruits','I will take fruits and biscuits with me while going to zoo','The zookeeper feeds the lion very carefully','One should givee good quality biscuits to their dogs']"
   ]
  },
  {
   "cell_type": "code",
   "execution_count": 6,
   "metadata": {},
   "outputs": [],
   "source": [
    "cvz=cv.fit_transform(corpus)"
   ]
  },
  {
   "cell_type": "code",
   "execution_count": 8,
   "metadata": {},
   "outputs": [
    {
     "data": {
      "text/plain": [
       "<5x33 sparse matrix of type '<class 'numpy.int64'>'\n",
       "\twith 40 stored elements in Compressed Sparse Row format>"
      ]
     },
     "execution_count": 8,
     "metadata": {},
     "output_type": "execute_result"
    }
   ],
   "source": [
    "cvz"
   ]
  },
  {
   "cell_type": "code",
   "execution_count": 10,
   "metadata": {},
   "outputs": [],
   "source": [
    "vocab=cv.get_feature_names()"
   ]
  },
  {
   "cell_type": "code",
   "execution_count": 11,
   "metadata": {},
   "outputs": [
    {
     "data": {
      "text/plain": [
       "['almonds',\n",
       " 'and',\n",
       " 'biscuits',\n",
       " 'breakfast',\n",
       " 'carefully',\n",
       " 'dogs',\n",
       " 'eat',\n",
       " 'eggs',\n",
       " 'feeds',\n",
       " 'for',\n",
       " 'fruits',\n",
       " 'givee',\n",
       " 'going',\n",
       " 'good',\n",
       " 'have',\n",
       " 'like',\n",
       " 'lion',\n",
       " 'me',\n",
       " 'my',\n",
       " 'one',\n",
       " 'quality',\n",
       " 'should',\n",
       " 'take',\n",
       " 'the',\n",
       " 'their',\n",
       " 'to',\n",
       " 'very',\n",
       " 'want',\n",
       " 'while',\n",
       " 'will',\n",
       " 'with',\n",
       " 'zoo',\n",
       " 'zookeeper']"
      ]
     },
     "execution_count": 11,
     "metadata": {},
     "output_type": "execute_result"
    }
   ],
   "source": [
    "vocab"
   ]
  },
  {
   "cell_type": "code",
   "execution_count": 59,
   "metadata": {},
   "outputs": [],
   "source": [
    "lda_model=LatentDirichletAllocation(n_components=2, max_iter=404)\n",
    "x_topics=lda_model.fit_transform(cvz)\n",
    "topic_words=lda_model.components_"
   ]
  },
  {
   "cell_type": "code",
   "execution_count": 60,
   "metadata": {},
   "outputs": [
    {
     "data": {
      "text/plain": [
       "array([[0.50431307, 1.51337234, 2.49743497, 0.50372258, 0.50309366,\n",
       "        1.49752829, 0.50431307, 0.50431307, 0.50309366, 0.50372258,\n",
       "        1.49433408, 1.49752829, 1.49747807, 1.49752829, 0.50372258,\n",
       "        0.50431307, 0.50309366, 1.49747807, 0.50372258, 1.49752829,\n",
       "        1.49752829, 1.49752829, 1.49747807, 0.50317854, 1.49752829,\n",
       "        2.52278878, 0.50309366, 0.50372258, 1.49747807, 1.49747807,\n",
       "        1.49747807, 1.49747807, 0.50309366],\n",
       "       [1.49568693, 1.48662766, 0.50256503, 1.49627742, 1.49690634,\n",
       "        0.50247171, 1.49568693, 1.49568693, 1.49690634, 1.49627742,\n",
       "        2.50566592, 0.50247171, 0.50252193, 0.50247171, 1.49627742,\n",
       "        1.49568693, 1.49690634, 0.50252193, 1.49627742, 0.50247171,\n",
       "        0.50247171, 0.50247171, 0.50252193, 2.49682146, 0.50247171,\n",
       "        2.47721122, 1.49690634, 1.49627742, 0.50252193, 0.50252193,\n",
       "        0.50252193, 0.50252193, 1.49690634]])"
      ]
     },
     "execution_count": 60,
     "metadata": {},
     "output_type": "execute_result"
    }
   ],
   "source": [
    "topic_words"
   ]
  },
  {
   "cell_type": "code",
   "execution_count": 61,
   "metadata": {},
   "outputs": [
    {
     "name": "stdout",
     "output_type": "stream",
     "text": [
      "topic 1 ['to' 'biscuits' 'and']\n",
      "topic 2 ['fruits' 'the' 'to']\n"
     ]
    }
   ],
   "source": [
    "n_top_words=4\n",
    "for i,topic_dist in enumerate(topic_words):\n",
    "    sorted_topic_dist=np.argsort(topic_dist)\n",
    "    topic_words=np.array(vocab)[sorted_topic_dist]\n",
    "    topic_words=topic_words[:-n_top_words:-1]\n",
    "    print('topic',str(i+1),topic_words)"
   ]
  },
  {
   "cell_type": "code",
   "execution_count": null,
   "metadata": {},
   "outputs": [],
   "source": []
  },
  {
   "cell_type": "code",
   "execution_count": 62,
   "metadata": {},
   "outputs": [
    {
     "name": "stdout",
     "output_type": "stream",
     "text": [
      "document 1 --topic: 1\n",
      "document 2 --topic: 1\n",
      "document 3 --topic: 0\n",
      "document 4 --topic: 1\n",
      "document 5 --topic: 0\n"
     ]
    }
   ],
   "source": [
    "doc_topic=lda_model.transform(cvz)\n",
    "for n in range(doc_topic.shape[0]):\n",
    "    topic_doc=doc_topic[n].argmax()\n",
    "    print('document',n+1,'--topic:',topic_doc)"
   ]
  },
  {
   "cell_type": "code",
   "execution_count": null,
   "metadata": {},
   "outputs": [],
   "source": []
  }
 ],
 "metadata": {
  "kernelspec": {
   "display_name": "Python 3",
   "language": "python",
   "name": "python3"
  },
  "language_info": {
   "codemirror_mode": {
    "name": "ipython",
    "version": 3
   },
   "file_extension": ".py",
   "mimetype": "text/x-python",
   "name": "python",
   "nbconvert_exporter": "python",
   "pygments_lexer": "ipython3",
   "version": "3.8.5"
  }
 },
 "nbformat": 4,
 "nbformat_minor": 4
}
